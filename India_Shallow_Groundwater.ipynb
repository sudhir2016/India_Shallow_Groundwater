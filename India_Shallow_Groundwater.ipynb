{
  "nbformat": 4,
  "nbformat_minor": 0,
  "metadata": {
    "colab": {
      "name": "India_Shallow_Groundwater",
      "provenance": [],
      "collapsed_sections": [],
      "authorship_tag": "ABX9TyN6hSQXmXGwuFJhvEKXOpoR",
      "include_colab_link": true
    },
    "kernelspec": {
      "name": "python3",
      "display_name": "Python 3"
    }
  },
  "cells": [
    {
      "cell_type": "markdown",
      "metadata": {
        "id": "view-in-github",
        "colab_type": "text"
      },
      "source": [
        "<a href=\"https://colab.research.google.com/github/sudhir2016/India_Shallow_Groundwater/blob/main/India_Shallow_Groundwater.ipynb\" target=\"_parent\"><img src=\"https://colab.research.google.com/assets/colab-badge.svg\" alt=\"Open In Colab\"/></a>"
      ]
    },
    {
      "cell_type": "markdown",
      "metadata": {
        "id": "F5g55Ni4CEyz"
      },
      "source": [
        "Install Geopandas and Rasterio"
      ]
    },
    {
      "cell_type": "code",
      "metadata": {
        "id": "MMYJWy4RCFiB"
      },
      "source": [
        "!pip install geopandas"
      ],
      "execution_count": null,
      "outputs": []
    },
    {
      "cell_type": "code",
      "metadata": {
        "id": "c8UzKYNrg5my"
      },
      "source": [
        "!pip install rasterio"
      ],
      "execution_count": null,
      "outputs": []
    },
    {
      "cell_type": "markdown",
      "metadata": {
        "id": "68voRx_6C0PD"
      },
      "source": [
        "Import various libraries."
      ]
    },
    {
      "cell_type": "code",
      "metadata": {
        "id": "WWjDBctjgvnX"
      },
      "source": [
        "import numpy as np\n",
        "import matplotlib.pyplot as plt\n",
        "import geopandas as gpd\n",
        "import fiona as fn\n",
        "import rasterio as rio\n",
        "from rasterio import mask"
      ],
      "execution_count": 4,
      "outputs": []
    },
    {
      "cell_type": "markdown",
      "metadata": {
        "id": "iA__iCb3DZGe"
      },
      "source": [
        "Open Global Shallow Groundwater TIFF file."
      ]
    },
    {
      "cell_type": "code",
      "metadata": {
        "id": "7Ojx5RTSdqhs"
      },
      "source": [
        "data=rio.open('/content/gws_perc_025deg_GL.tif')"
      ],
      "execution_count": 22,
      "outputs": []
    },
    {
      "cell_type": "markdown",
      "metadata": {
        "id": "0Ye5XTOrWjCo"
      },
      "source": [
        "Obtain CRS."
      ]
    },
    {
      "cell_type": "code",
      "metadata": {
        "id": "_qD96DQNgJcH"
      },
      "source": [
        "crs=data.crs\n",
        "print(crs)"
      ],
      "execution_count": null,
      "outputs": []
    },
    {
      "cell_type": "markdown",
      "metadata": {
        "id": "EY7WjfsxEtrY"
      },
      "source": [
        "Read India(partial) GeoJSON file and use it to mask the Global Shallow Groundwater data."
      ]
    },
    {
      "cell_type": "code",
      "metadata": {
        "id": "pv6Qk9jj5HFU"
      },
      "source": [
        "india='/content/India.json'"
      ],
      "execution_count": 24,
      "outputs": []
    },
    {
      "cell_type": "code",
      "metadata": {
        "id": "AaQCv5T75Qnd"
      },
      "source": [
        "map=gpd.read_file(india)"
      ],
      "execution_count": 25,
      "outputs": []
    },
    {
      "cell_type": "code",
      "metadata": {
        "id": "oYwNiauIqwHe"
      },
      "source": [
        "map1=map.to_crs({'init': crs})"
      ],
      "execution_count": null,
      "outputs": []
    },
    {
      "cell_type": "code",
      "metadata": {
        "id": "nWWSOsi0rmCo"
      },
      "source": [
        "geo=map1.geometry\n",
        "print(geo)"
      ],
      "execution_count": null,
      "outputs": []
    },
    {
      "cell_type": "code",
      "metadata": {
        "id": "c_zlXIzp5fw9"
      },
      "source": [
        "map.plot()"
      ],
      "execution_count": null,
      "outputs": []
    },
    {
      "cell_type": "code",
      "metadata": {
        "id": "nRXs_NQ16wsH"
      },
      "source": [
        "with fn.open(india,'r') as shapefile:\n",
        "  shapes=[feature['geometry'] for feature in shapefile]"
      ],
      "execution_count": 29,
      "outputs": []
    },
    {
      "cell_type": "code",
      "metadata": {
        "id": "ujk36PG2pb9f"
      },
      "source": [
        "with rio.open(\"/content/gws_perc_025deg_GL.tif\") as src:\n",
        "    out_image, out_transform = rio.mask.mask(src,geo,crop=True)\n",
        "    out_meta = src.meta.copy()\n",
        "    out_meta.update({\"driver\": \"GTiff\",\n",
        "                 \"height\": out_image.shape[1],\n",
        "                 \"width\": out_image.shape[2],\n",
        "                 \"transform\": out_transform})"
      ],
      "execution_count": 30,
      "outputs": []
    },
    {
      "cell_type": "markdown",
      "metadata": {
        "id": "HIJyxLH0XR2X"
      },
      "source": [
        "Obtain India Shallow Groundwater TIFF file."
      ]
    },
    {
      "cell_type": "code",
      "metadata": {
        "id": "_uEzUrHIrwHo"
      },
      "source": [
        "with rio.open('SGW_India.tiff', 'w', **out_meta) as dest:\n",
        "    dest.write(out_image)"
      ],
      "execution_count": 31,
      "outputs": []
    },
    {
      "cell_type": "markdown",
      "metadata": {
        "id": "SHrxKnVqW4Bs"
      },
      "source": [
        "Plot India Shallow Groundwater map."
      ]
    },
    {
      "cell_type": "code",
      "metadata": {
        "id": "OOKGVFCnF9ZL"
      },
      "source": [
        "src = rio.open('/content/SGW_India.tiff')\n",
        "src1=src.read(1,masked=True)\n",
        "plt.imshow(src1,vmin=0,vmax=100,cmap='RdYlBu' )\n",
        "plt.colorbar()\n",
        "plt.title('Shallow Groundwater Percentile 26.10.20')"
      ],
      "execution_count": null,
      "outputs": []
    }
  ]
}